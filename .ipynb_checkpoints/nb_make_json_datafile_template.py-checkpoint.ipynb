{
 "cells": [
  {
   "cell_type": "code",
   "execution_count": null,
   "metadata": {},
   "outputs": [],
   "source": [
    "#you will need to install tweepy library for this script\n",
    "#using sys to pull in the command line arg 'flags' and to install the tweepy library\n",
    "import sys\n",
    "!{sys.executable} -m pip install tweepy"
   ]
  },
  {
   "cell_type": "code",
   "execution_count": null,
   "metadata": {},
   "outputs": [],
   "source": [
    "########################## IMPORTS ##########################\n",
    "#bringing in the tweepy library since we dont need to pull in the entire TwitterAPI lib, just want to access some of the get_user etc methods\n",
    "import tweepy\n",
    "#need json to write out the json files\n",
    "import json\n",
    "#using sys to pull in the command line arg 'flags'\n",
    "#making it easy for me to prop up dates\n",
    "import datetime"
   ]
  },
  {
   "cell_type": "code",
   "execution_count": null,
   "metadata": {},
   "outputs": [],
   "source": [
    "#we need to get the equivalent of some command line args: <account_name> <From Date (first)> <To Date (today)> <output file name> <ChromeVersion>\n",
    "#date formats should be YYYYMMDDhhmm or 'first', 'today'\n",
    "\n",
    "argv_account_name = str(input(\"Account Name: \"))\n",
    "argv_from_date = str(input(\"From Date (or 'first'): \"))\n",
    "argv_to_date = str(input(\"To Date (or 'today'): \"))\n",
    "argv_output_file_name = str(input(\"Output File Name: \"))\n",
    "argv_chrome_version = str(input(\"Your Chrome Version: \"))"
   ]
  },
  {
   "cell_type": "code",
   "execution_count": null,
   "metadata": {},
   "outputs": [],
   "source": [
    "#set up your auth stuff here. You will need to grab the 4 codes from your twitter dev App page under \"Keys and Tokens\"\n",
    "#keys go here, (api key, secret key)\n",
    "auth = tweepy.OAuthHandler('','')\n",
    "#tokens go here (access token, access secret token)\n",
    "auth.set_access_token('', '')\n",
    "#once we set the API keys and Acess tokens, we need to push the auth to the Tweepy auth handler, and hopefully we get a api connect returned to us\n",
    "api = tweepy.API(auth)"
   ]
  },
  {
   "cell_type": "code",
   "execution_count": null,
   "metadata": {},
   "outputs": [],
   "source": [
    "#calling the tweepy API get_user method (and then the _json object attached to the return json). from here we can find the id_str for the twitter account\n",
    "target_user_id = api.get_user(argv_account_name)._json['id_str']"
   ]
  },
  {
   "cell_type": "code",
   "execution_count": null,
   "metadata": {},
   "outputs": [],
   "source": [
    "#a tiny check of the start date against the string 'first'. if it is, we give it the first day of twitter\n",
    "if(argv_from_date.lower() == \"first\"):\n",
    "    argv_from_date = \"200603210000\"\n",
    "#now if we want to get the most up-to-date tweets, we can pass the commandline flag 'today' \n",
    "if(argv_to_date.lower() == \"today\"):\n",
    "    #passing 'today' will let us call the datetime methods and set the to_date param to the current time\n",
    "    #below is just some cheeky datetime manip, its cool and works so we leave it at that. the dates have to be in a certain format so we make it work\n",
    "    now = datetime.datetime.now()\n",
    "    month = str(now.month)\n",
    "    day = str(now.day)\n",
    "    hour = str(now.hour)\n",
    "    minute = str(now.minute)\n",
    "    if(len(month) == 1):\n",
    "        month = '0' + month\n",
    "    if(len(day) == 1):\n",
    "        day = '0' + day\n",
    "    if(len(hour) == 1):\n",
    "        hour = '0' + hour\n",
    "    if(len(minute) == 1):\n",
    "        minute = '0' + minute\n",
    "    argv_to_date = str(now.year) + month + day + hour + minute"
   ]
  },
  {
   "cell_type": "code",
   "execution_count": null,
   "metadata": {},
   "outputs": [],
   "source": [
    "#here is the json file that is being written out to the given filename. it includes all of the datapoints we need to give the \n",
    "datafile = [{\"target_user_id\": str(target_user_id), \"target_user_screen_name\": str(argv_account_name), \"c_key\": \"\", \"c_secret\": \"\", \"a_token\": \"\", \"a_secret\": \"\", \"output_file_name\": str(argv_output_file_name), \"dev_environment\": \"\", \"max_results\": \"100\", \"toDate\": str(argv_to_date), \"fromDate\": str(argv_from_date), \"chrome_version\": str(argv_chrome_version)}]\n",
    "\n",
    "#lets name the datafile the name of the brand or account we are looking for. that makes sense to me when you are searching through these, since the account's id is included.\n",
    "file_name = \"{}.json\".format(argv_account_name.lower())\n",
    "\n",
    "with open(file_name, 'w') as o_f:\n",
    "    json.dump(datafile, o_f)"
   ]
  },
  {
   "cell_type": "code",
   "execution_count": null,
   "metadata": {},
   "outputs": [],
   "source": []
  }
 ],
 "metadata": {
  "kernelspec": {
   "display_name": "Python 3",
   "language": "python",
   "name": "python3"
  },
  "language_info": {
   "codemirror_mode": {
    "name": "ipython",
    "version": 3
   },
   "file_extension": ".py",
   "mimetype": "text/x-python",
   "name": "python",
   "nbconvert_exporter": "python",
   "pygments_lexer": "ipython3",
   "version": "3.7.2"
  }
 },
 "nbformat": 4,
 "nbformat_minor": 4
}
