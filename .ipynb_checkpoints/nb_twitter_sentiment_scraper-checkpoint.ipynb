{
 "cells": [
  {
   "cell_type": "code",
   "execution_count": null,
   "metadata": {},
   "outputs": [],
   "source": [
    "#Let's start by installing all of our libraries and dependancies\n",
    "pip3 install emoji\n",
    "pip3 install TwitterAPI\n",
    "pip3 install pandas\n",
    "pip3 install bs4\n",
    "pip3 install selenium\n",
    "pip3 install tweepy\n",
    "pip3 install nltk"
   ]
  },
  {
   "cell_type": "code",
   "execution_count": null,
   "metadata": {},
   "outputs": [],
   "source": [
    "#if this is your first time using the nltk library, you will need to download some stuff\n",
    "import nltk\n",
    "nltk.download()\n",
    "#you should just use the download all tool, it wont take very long and it's nice to have the whole library"
   ]
  },
  {
   "cell_type": "code",
   "execution_count": null,
   "metadata": {},
   "outputs": [],
   "source": []
  }
 ],
 "metadata": {
  "kernelspec": {
   "display_name": "Python 3",
   "language": "python",
   "name": "python3"
  },
  "language_info": {
   "codemirror_mode": {
    "name": "ipython",
    "version": 3
   },
   "file_extension": ".py",
   "mimetype": "text/x-python",
   "name": "python",
   "nbconvert_exporter": "python",
   "pygments_lexer": "ipython3",
   "version": "3.7.2"
  }
 },
 "nbformat": 4,
 "nbformat_minor": 4
}
